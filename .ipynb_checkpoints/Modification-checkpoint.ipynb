{
 "cells": [
  {
   "cell_type": "code",
   "execution_count": 1,
   "metadata": {},
   "outputs": [],
   "source": [
    "import matplotlib.pyplot as plt\n",
    "from random import randint\n",
    "from hashlib import sha1\n",
    "import time\n",
    "from copy import deepcopy\n",
    "from tqdm import tqdm"
   ]
  },
  {
   "cell_type": "code",
   "execution_count": 2,
   "metadata": {},
   "outputs": [],
   "source": [
    "class state:\n",
    "    visited = set([])\n",
    "    def __init__(self, routine):\n",
    "        self.routine = routine\n",
    "        n = len(self.routine)\n",
    "        m = len(self.routine[0])\n",
    "        \n",
    "        self.cost = 0\n",
    "        for i in range(n):\n",
    "            for j in range(m):\n",
    "                list_set = [set([]), set([]), set([])]\n",
    "                for k in range (len(self.routine[i][j])):\n",
    "                    for l in range(3):\n",
    "                        if self.routine[i][j][k][l] not in list_set[l]:\n",
    "                            list_set[l].add(self.routine[i][j][k][l])\n",
    "                        else:\n",
    "                            self.cost = self.cost + 1\n",
    "        \n",
    "        self.hash = sha1(str(self.routine).encode()).hexdigest()\n",
    "        \n",
    "        self.list_states = [None]\n",
    "        \n",
    "    def calc_transitions(self):\n",
    "        if self.list_states == [None]: \n",
    "            self.list_states = []\n",
    "            n = len(self.routine)\n",
    "            m = len(self.routine[0])\n",
    "            for i in range(n):\n",
    "                for j in range(m):\n",
    "                    num_entries = len(self.routine[i][j])\n",
    "                    for k in range(num_entries):\n",
    "                        for i_ in range(n):\n",
    "                            for j_ in range(m):\n",
    "                                if(i == i_ and j == j_):\n",
    "                                    continue\n",
    "                                tmp = deepcopy(self.routine)\n",
    "                                tup = tmp[i][j].pop(k)\n",
    "                                tmp[i_][j_].append(tup);\n",
    "                                tmp[i_][j_] = sorted(tmp[i_][j_])\n",
    "                                self.list_states.append(state(tmp))\n",
    "\n",
    "            "
   ]
  },
  {
   "cell_type": "code",
   "execution_count": 3,
   "metadata": {},
   "outputs": [
    {
     "data": {
      "text/plain": [
       "[(2, 2, 1),\n",
       " (2, 2, 1),\n",
       " (1, 1, 1),\n",
       " (1, 1, 1),\n",
       " (1, 1, 1),\n",
       " (1, 1, 1),\n",
       " (1, 1, 1),\n",
       " (1, 1, 1),\n",
       " (1, 1, 1),\n",
       " (1, 1, 1),\n",
       " (2, 2, 3),\n",
       " (2, 2, 3),\n",
       " (2, 5, 1),\n",
       " (2, 5, 1),\n",
       " (0, 4, 3),\n",
       " (0, 4, 3),\n",
       " (2, 2, 1),\n",
       " (2, 2, 1),\n",
       " (2, 1, 1),\n",
       " (2, 1, 1),\n",
       " (0, 0, 5),\n",
       " (2, 1, 4),\n",
       " (6, 1, 2),\n",
       " (3, 1, 2),\n",
       " (1, 4, 1),\n",
       " (1, 4, 1),\n",
       " (1, 4, 1),\n",
       " (1, 4, 1),\n",
       " (3, 3, 2),\n",
       " (2, 0, 1)]"
      ]
     },
     "execution_count": 3,
     "metadata": {},
     "output_type": "execute_result"
    }
   ],
   "source": [
    "def fetch_class_teacher_venue_count(filename):\n",
    "    file = open(filename, 'r')\n",
    "    return_list = []\n",
    "    for line in file:\n",
    "        clas, teacher, venue, count = [int(v) for v in line.split()]\n",
    "        for _ in range(count):\n",
    "            return_list.append((clas, teacher, venue))\n",
    "    return return_list\n",
    "\n",
    "fetch_class_teacher_venue_count('./hdtt/hdtt4req.txt')"
   ]
  },
  {
   "cell_type": "code",
   "execution_count": 4,
   "metadata": {},
   "outputs": [],
   "source": [
    "def make_random_state(days, periods, list_tuple):\n",
    "    ret_state_routine = [[None] * periods] * days\n",
    "    for i in range(days):\n",
    "            for j in range(periods):\n",
    "                ret_state_routine[i][j] = []\n",
    "                \n",
    "    for tup in list_tuple:\n",
    "        day = randint(0, days - 1)\n",
    "        period = randint(0, periods - 1)\n",
    "        ret_state_routine[day][period].append(tup)\n",
    "    \n",
    "    for i in range(days):\n",
    "            for j in range(periods):\n",
    "                ret_state_routine[i][j] = sorted(ret_state_routine[i][j])\n",
    "                \n",
    "    return state(ret_state_routine)"
   ]
  },
  {
   "cell_type": "code",
   "execution_count": 5,
   "metadata": {},
   "outputs": [],
   "source": [
    "def beam_search(k = 5):\n",
    "    now = []\n",
    "    nxt = []\n",
    "    class_teacher_venue_count_tup_list = fetch_class_teacher_venue_count('./hdtt/hdtt4req.txt')\n",
    "    \n",
    "    for it in range(k):\n",
    "        rand_state = make_random_state(5, 6, class_teacher_venue_count_tup_list) \n",
    "        now.append(rand_state)\n",
    "        state.visited.add(rand_state.hash)\n",
    "    \n",
    "    sorted(now, key = lambda s: s.cost)\n",
    "    \n",
    "    print('Initial cost is ' + str(now[0].cost))\n",
    "    \n",
    "    itr = 0\n",
    "    while itr < 100:\n",
    "        itr = itr + 1\n",
    "        print('Running iteration : ' + str(itr))\n",
    "        for cur_state in tqdm(now):\n",
    "            cur_state.calc_transitions()\n",
    "            for nxt_state in cur_state.list_states:\n",
    "                if nxt_state.hash not in state.visited:\n",
    "                    state.visited.add(nxt_state.hash)\n",
    "                    nxt.append(nxt_state)\n",
    "                \n",
    "        if(len(nxt) == 0):\n",
    "            print(\"Done!\")\n",
    "            return now[0]\n",
    "        sorted(nxt, key = lambda s: s.cost)\n",
    "        now = []\n",
    "        for idx in tqdm(range(k)):\n",
    "            if idx >= len(nxt):\n",
    "                break\n",
    "            state.visited.add(nxt[idx].hash)\n",
    "            now.append(nxt[idx])\n",
    "        nxt = []\n",
    "        print('Cost after iteration ' + str(itr) + ' is ' + str(now[0].cost))\n",
    "    "
   ]
  },
  {
   "cell_type": "code",
   "execution_count": 6,
   "metadata": {},
   "outputs": [
    {
     "name": "stderr",
     "output_type": "stream",
     "text": [
      "\r",
      "  0%|          | 0/5 [00:00<?, ?it/s]"
     ]
    },
    {
     "name": "stdout",
     "output_type": "stream",
     "text": [
      "Initial cost is 220\n",
      "Running iteration : 1\n"
     ]
    },
    {
     "name": "stderr",
     "output_type": "stream",
     "text": [
      "100%|██████████| 5/5 [00:10<00:00,  2.18s/it]\n",
      "100%|██████████| 5/5 [00:00<00:00, 40252.44it/s]\n",
      "  0%|          | 0/5 [00:00<?, ?it/s]"
     ]
    },
    {
     "name": "stdout",
     "output_type": "stream",
     "text": [
      "Cost after iteration 1 is 205\n",
      "Running iteration : 2\n"
     ]
    },
    {
     "name": "stderr",
     "output_type": "stream",
     "text": [
      "100%|██████████| 5/5 [00:10<00:00,  2.15s/it]\n",
      "100%|██████████| 5/5 [00:00<00:00, 3902.40it/s]\n",
      "  0%|          | 0/5 [00:00<?, ?it/s]"
     ]
    },
    {
     "name": "stdout",
     "output_type": "stream",
     "text": [
      "Cost after iteration 2 is 200\n",
      "Running iteration : 3\n"
     ]
    },
    {
     "name": "stderr",
     "output_type": "stream",
     "text": [
      "100%|██████████| 5/5 [00:10<00:00,  2.18s/it]\n",
      "100%|██████████| 5/5 [00:00<00:00, 9713.53it/s]\n",
      "  0%|          | 0/5 [00:00<?, ?it/s]"
     ]
    },
    {
     "name": "stdout",
     "output_type": "stream",
     "text": [
      "Cost after iteration 3 is 195\n",
      "Running iteration : 4\n"
     ]
    },
    {
     "name": "stderr",
     "output_type": "stream",
     "text": [
      "100%|██████████| 5/5 [00:10<00:00,  2.16s/it]\n",
      "100%|██████████| 5/5 [00:00<00:00, 27025.15it/s]\n",
      "  0%|          | 0/5 [00:00<?, ?it/s]"
     ]
    },
    {
     "name": "stdout",
     "output_type": "stream",
     "text": [
      "Cost after iteration 4 is 190\n",
      "Running iteration : 5\n"
     ]
    },
    {
     "name": "stderr",
     "output_type": "stream",
     "text": [
      "100%|██████████| 5/5 [00:11<00:00,  2.22s/it]\n",
      "100%|██████████| 5/5 [00:00<00:00, 12897.61it/s]\n",
      "  0%|          | 0/5 [00:00<?, ?it/s]"
     ]
    },
    {
     "name": "stdout",
     "output_type": "stream",
     "text": [
      "Cost after iteration 5 is 185\n",
      "Running iteration : 6\n"
     ]
    },
    {
     "name": "stderr",
     "output_type": "stream",
     "text": [
      "100%|██████████| 5/5 [00:11<00:00,  2.38s/it]\n",
      "100%|██████████| 5/5 [00:00<00:00, 37923.18it/s]\n",
      "  0%|          | 0/5 [00:00<?, ?it/s]"
     ]
    },
    {
     "name": "stdout",
     "output_type": "stream",
     "text": [
      "Cost after iteration 6 is 180\n",
      "Running iteration : 7\n"
     ]
    },
    {
     "name": "stderr",
     "output_type": "stream",
     "text": [
      "100%|██████████| 5/5 [00:11<00:00,  2.26s/it]\n",
      "100%|██████████| 5/5 [00:00<00:00, 24470.85it/s]\n",
      "  0%|          | 0/5 [00:00<?, ?it/s]"
     ]
    },
    {
     "name": "stdout",
     "output_type": "stream",
     "text": [
      "Cost after iteration 7 is 175\n",
      "Running iteration : 8\n"
     ]
    },
    {
     "name": "stderr",
     "output_type": "stream",
     "text": [
      "100%|██████████| 5/5 [00:11<00:00,  2.36s/it]\n",
      "  0%|          | 0/5 [00:00<?, ?it/s]\n",
      "  0%|          | 0/2 [00:00<?, ?it/s]"
     ]
    },
    {
     "name": "stdout",
     "output_type": "stream",
     "text": [
      "Cost after iteration 8 is 170\n",
      "Running iteration : 9\n"
     ]
    },
    {
     "name": "stderr",
     "output_type": "stream",
     "text": [
      "100%|██████████| 2/2 [00:04<00:00,  2.20s/it]"
     ]
    },
    {
     "name": "stdout",
     "output_type": "stream",
     "text": [
      "Done!\n"
     ]
    },
    {
     "name": "stderr",
     "output_type": "stream",
     "text": [
      "\n"
     ]
    }
   ],
   "source": [
    "optimal_state = beam_search()"
   ]
  },
  {
   "cell_type": "code",
   "execution_count": 7,
   "metadata": {},
   "outputs": [
    {
     "data": {
      "text/plain": [
       "[[[(1, 4, 1), (2, 1, 1), (2, 2, 1), (2, 5, 1), (3, 3, 2)],\n",
       "  [(1, 1, 1), (1, 4, 1), (2, 2, 1)],\n",
       "  [(0, 0, 5),\n",
       "   (1, 1, 1),\n",
       "   (1, 1, 1),\n",
       "   (1, 4, 1),\n",
       "   (2, 2, 3),\n",
       "   (2, 5, 1),\n",
       "   (6, 1, 2)],\n",
       "  [(0, 4, 3), (1, 1, 1), (2, 0, 1), (2, 2, 1)],\n",
       "  [(0, 4, 3), (1, 1, 1), (2, 1, 1), (2, 2, 1)],\n",
       "  [(1, 1, 1),\n",
       "   (1, 1, 1),\n",
       "   (1, 1, 1),\n",
       "   (1, 4, 1),\n",
       "   (2, 1, 4),\n",
       "   (2, 2, 3),\n",
       "   (3, 1, 2)]],\n",
       " [[(1, 4, 1), (2, 1, 1), (2, 2, 1), (2, 5, 1), (3, 3, 2)],\n",
       "  [(1, 1, 1), (1, 4, 1), (2, 2, 1)],\n",
       "  [(0, 0, 5),\n",
       "   (1, 1, 1),\n",
       "   (1, 1, 1),\n",
       "   (1, 4, 1),\n",
       "   (2, 2, 3),\n",
       "   (2, 5, 1),\n",
       "   (6, 1, 2)],\n",
       "  [(0, 4, 3), (1, 1, 1), (2, 0, 1), (2, 2, 1)],\n",
       "  [(0, 4, 3), (1, 1, 1), (2, 1, 1), (2, 2, 1)],\n",
       "  [(1, 1, 1),\n",
       "   (1, 1, 1),\n",
       "   (1, 1, 1),\n",
       "   (1, 4, 1),\n",
       "   (2, 1, 4),\n",
       "   (2, 2, 3),\n",
       "   (3, 1, 2)]],\n",
       " [[(1, 4, 1), (2, 1, 1), (2, 2, 1), (2, 5, 1), (3, 3, 2)],\n",
       "  [(1, 1, 1), (1, 4, 1), (2, 2, 1)],\n",
       "  [(0, 0, 5),\n",
       "   (1, 1, 1),\n",
       "   (1, 1, 1),\n",
       "   (1, 4, 1),\n",
       "   (2, 2, 3),\n",
       "   (2, 5, 1),\n",
       "   (6, 1, 2)],\n",
       "  [(0, 4, 3), (1, 1, 1), (2, 0, 1), (2, 2, 1)],\n",
       "  [(0, 4, 3), (1, 1, 1), (2, 1, 1), (2, 2, 1)],\n",
       "  [(1, 1, 1),\n",
       "   (1, 1, 1),\n",
       "   (1, 1, 1),\n",
       "   (1, 4, 1),\n",
       "   (2, 1, 4),\n",
       "   (2, 2, 3),\n",
       "   (3, 1, 2)]],\n",
       " [[(1, 4, 1), (2, 1, 1), (2, 2, 1), (2, 5, 1), (3, 3, 2)],\n",
       "  [(1, 1, 1), (1, 4, 1), (2, 2, 1)],\n",
       "  [(0, 0, 5),\n",
       "   (1, 1, 1),\n",
       "   (1, 1, 1),\n",
       "   (1, 4, 1),\n",
       "   (2, 2, 3),\n",
       "   (2, 5, 1),\n",
       "   (6, 1, 2)],\n",
       "  [(0, 4, 3), (1, 1, 1), (2, 0, 1), (2, 2, 1)],\n",
       "  [(0, 4, 3), (1, 1, 1), (2, 1, 1), (2, 2, 1)],\n",
       "  [(1, 1, 1),\n",
       "   (1, 1, 1),\n",
       "   (1, 1, 1),\n",
       "   (1, 4, 1),\n",
       "   (2, 1, 4),\n",
       "   (2, 2, 3),\n",
       "   (3, 1, 2)]],\n",
       " [[(1, 4, 1), (2, 1, 1), (2, 2, 1), (2, 5, 1), (3, 3, 2)],\n",
       "  [(1, 1, 1), (1, 4, 1), (2, 2, 1)],\n",
       "  [(0, 0, 5),\n",
       "   (1, 1, 1),\n",
       "   (1, 1, 1),\n",
       "   (1, 4, 1),\n",
       "   (2, 2, 3),\n",
       "   (2, 5, 1),\n",
       "   (6, 1, 2)],\n",
       "  [(0, 4, 3), (1, 1, 1), (2, 0, 1), (2, 2, 1)],\n",
       "  [(0, 4, 3), (1, 1, 1), (2, 1, 1), (2, 2, 1)],\n",
       "  [(1, 1, 1),\n",
       "   (1, 1, 1),\n",
       "   (1, 1, 1),\n",
       "   (1, 4, 1),\n",
       "   (2, 1, 4),\n",
       "   (2, 2, 3),\n",
       "   (3, 1, 2)]]]"
      ]
     },
     "execution_count": 7,
     "metadata": {},
     "output_type": "execute_result"
    }
   ],
   "source": [
    "optimal_state.routine"
   ]
  },
  {
   "cell_type": "code",
   "execution_count": 8,
   "metadata": {},
   "outputs": [
    {
     "name": "stdout",
     "output_type": "stream",
     "text": [
      "170\n"
     ]
    }
   ],
   "source": [
    "print(optimal_state.cost)"
   ]
  }
 ],
 "metadata": {
  "kernelspec": {
   "display_name": "Python 3",
   "language": "python",
   "name": "python3"
  },
  "language_info": {
   "codemirror_mode": {
    "name": "ipython",
    "version": 3
   },
   "file_extension": ".py",
   "mimetype": "text/x-python",
   "name": "python",
   "nbconvert_exporter": "python",
   "pygments_lexer": "ipython3",
   "version": "3.5.2"
  }
 },
 "nbformat": 4,
 "nbformat_minor": 2
}
