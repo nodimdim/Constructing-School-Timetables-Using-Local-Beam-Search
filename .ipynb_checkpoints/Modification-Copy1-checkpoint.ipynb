{
 "cells": [
  {
   "cell_type": "code",
   "execution_count": 1,
   "metadata": {},
   "outputs": [],
   "source": [
    "from random import randint\n",
    "import time\n",
    "from copy import deepcopy\n",
    "from tqdm import tqdm"
   ]
  },
  {
   "cell_type": "code",
   "execution_count": 2,
   "metadata": {},
   "outputs": [],
   "source": [
    "class state:\n",
    "    def __init__(self, routine):\n",
    "        self.routine = routine\n",
    "        n = len(self.routine)\n",
    "        m = len(self.routine[0])\n",
    "        \n",
    "        self.cost = 0\n",
    "        for i in range(n):\n",
    "            for j in range(m):\n",
    "                list_set = [set([]), set([]), set([])]\n",
    "                for k in range (len(self.routine[i][j])):\n",
    "                    for l in range(3):\n",
    "                        if self.routine[i][j][k][l] not in list_set[l]:\n",
    "                            list_set[l].add(self.routine[i][j][k][l])\n",
    "                        else:\n",
    "                            self.cost = self.cost + 1\n",
    "        \n",
    "        self.list_states = [None]\n",
    "        \n",
    "    def calc_transitions(self):\n",
    "        if self.list_states == [None]: \n",
    "            self.list_states = []\n",
    "            n = len(self.routine)\n",
    "            m = len(self.routine[0])\n",
    "            for i in range(n):\n",
    "                for j in range(m):\n",
    "                    num_entries = len(self.routine[i][j])\n",
    "                    for k in range(num_entries):\n",
    "                        for i_ in range(n):\n",
    "                            for j_ in range(m):\n",
    "                                if(i == i_ and j == j_):\n",
    "                                    continue\n",
    "                                tmp = deepcopy(self.routine)\n",
    "                                tup = tmp[i][j].pop(k)\n",
    "                                tmp[i_][j_].append(tup);\n",
    "                                tmp[i_][j_] = sorted(tmp[i_][j_])\n",
    "                                self.list_states.append(state(tmp))\n",
    "            \n",
    "            for stt in range(100):\n",
    "                tmp = deepcopy(self.routine)\n",
    "                for sw in range(10):\n",
    "                    i1, j1, i2, j2 = randint(0, n - 1), randint(0, m - 1), randint(0, n - 1), randint(0, m - 1),\n",
    "                    if len(tmp[i1][j1]) and len(tmp[i2][j2]):\n",
    "                        tmp[i1][j1], tmp[i2][j2] =  tmp[i2][j2], tmp[i1][j1]\n",
    "                for i in range(n):\n",
    "                    for j in range(m):\n",
    "                        tmp[i][j] = sorted(tmp[i][j])\n",
    "                self.list_states.append(state(tmp))\n",
    "                    \n",
    "\n",
    "            "
   ]
  },
  {
   "cell_type": "code",
   "execution_count": 3,
   "metadata": {},
   "outputs": [
    {
     "data": {
      "text/plain": [
       "[(1, 1, 1),\n",
       " (1, 1, 1),\n",
       " (1, 1, 2),\n",
       " (1, 1, 2),\n",
       " (1, 1, 3),\n",
       " (1, 1, 4),\n",
       " (1, 1, 4),\n",
       " (1, 2, 1),\n",
       " (1, 2, 2),\n",
       " (1, 2, 3),\n",
       " (1, 2, 4),\n",
       " (1, 2, 4),\n",
       " (1, 3, 1),\n",
       " (1, 3, 2),\n",
       " (1, 3, 3),\n",
       " (1, 3, 4),\n",
       " (1, 3, 4),\n",
       " (1, 3, 4),\n",
       " (1, 3, 4),\n",
       " (1, 3, 4),\n",
       " (1, 3, 4),\n",
       " (1, 4, 1),\n",
       " (1, 4, 1),\n",
       " (1, 4, 2),\n",
       " (1, 4, 2),\n",
       " (1, 4, 3),\n",
       " (1, 4, 3),\n",
       " (1, 4, 3),\n",
       " (1, 4, 4),\n",
       " (1, 4, 4),\n",
       " (2, 1, 1),\n",
       " (2, 1, 1),\n",
       " (2, 1, 2),\n",
       " (2, 1, 2),\n",
       " (2, 1, 2),\n",
       " (2, 1, 2),\n",
       " (2, 1, 2),\n",
       " (2, 1, 3),\n",
       " (2, 1, 4),\n",
       " (2, 1, 4),\n",
       " (2, 2, 2),\n",
       " (2, 2, 2),\n",
       " (2, 2, 2),\n",
       " (2, 2, 2),\n",
       " (2, 2, 3),\n",
       " (2, 2, 3),\n",
       " (2, 2, 3),\n",
       " (2, 2, 4),\n",
       " (2, 2, 4),\n",
       " (2, 3, 1),\n",
       " (2, 3, 2),\n",
       " (2, 3, 2),\n",
       " (2, 3, 3),\n",
       " (2, 4, 1),\n",
       " (2, 4, 1),\n",
       " (2, 4, 2),\n",
       " (2, 4, 2),\n",
       " (2, 4, 3),\n",
       " (2, 4, 4),\n",
       " (2, 4, 4),\n",
       " (3, 1, 1),\n",
       " (3, 1, 1),\n",
       " (3, 1, 2),\n",
       " (3, 1, 3),\n",
       " (3, 1, 4),\n",
       " (3, 1, 4),\n",
       " (3, 2, 3),\n",
       " (3, 2, 3),\n",
       " (3, 2, 3),\n",
       " (3, 2, 3),\n",
       " (3, 2, 3),\n",
       " (3, 2, 4),\n",
       " (3, 3, 1),\n",
       " (3, 3, 1),\n",
       " (3, 3, 2),\n",
       " (3, 3, 3),\n",
       " (3, 3, 3),\n",
       " (3, 3, 3),\n",
       " (3, 3, 3),\n",
       " (3, 3, 4),\n",
       " (3, 4, 1),\n",
       " (3, 4, 1),\n",
       " (3, 4, 1),\n",
       " (3, 4, 1),\n",
       " (3, 4, 1),\n",
       " (3, 4, 1),\n",
       " (3, 4, 2),\n",
       " (3, 4, 3),\n",
       " (3, 4, 3),\n",
       " (3, 4, 4),\n",
       " (4, 1, 1),\n",
       " (4, 1, 1),\n",
       " (4, 1, 1),\n",
       " (4, 1, 2),\n",
       " (4, 1, 3),\n",
       " (4, 1, 3),\n",
       " (4, 1, 4),\n",
       " (4, 2, 1),\n",
       " (4, 2, 2),\n",
       " (4, 2, 2),\n",
       " (4, 2, 2),\n",
       " (4, 2, 2),\n",
       " (4, 2, 3),\n",
       " (4, 2, 4),\n",
       " (4, 2, 4),\n",
       " (4, 2, 4),\n",
       " (4, 2, 4),\n",
       " (4, 3, 1),\n",
       " (4, 3, 1),\n",
       " (4, 3, 1),\n",
       " (4, 3, 2),\n",
       " (4, 3, 2),\n",
       " (4, 3, 2),\n",
       " (4, 3, 3),\n",
       " (4, 3, 3),\n",
       " (4, 3, 4),\n",
       " (4, 4, 1),\n",
       " (4, 4, 1),\n",
       " (4, 4, 3),\n",
       " (4, 4, 4)]"
      ]
     },
     "execution_count": 3,
     "metadata": {},
     "output_type": "execute_result"
    }
   ],
   "source": [
    "def fetch_dataset(case_name):\n",
    "    file = open('./hdtt/' + case_name + 'note.txt', 'r')\n",
    "    \n",
    "    clas, teacher, venue = 0, 0, 0\n",
    "    for line in file:\n",
    "        ara = [v for v in line.split()]\n",
    "        ara[-1] = int(ara[-1])\n",
    "        if ara[2] == 'TEACHERS':\n",
    "            teacher = ara[-1]\n",
    "        if ara[2] == 'CLASSES':\n",
    "            clas = ara[-1]\n",
    "        if ara[2] == 'ROOM':\n",
    "            venue = ara[-1]\n",
    "\n",
    "    file.close()\n",
    "    \n",
    "    return_list = []\n",
    "    \n",
    "    file = open('./hdtt/' + case_name + 'req.txt', 'r')\n",
    "    for v in range(1, venue + 1):\n",
    "        for c in range(1, clas + 1):\n",
    "            dis_ara = [int(v) for v in file.readline().split()]\n",
    "            for t in range(1, teacher + 1):\n",
    "                for cnt in range(dis_ara[t - 1]):\n",
    "                    return_list.append((v, c, t))\n",
    "    \n",
    "    file.close()\n",
    "    return return_list\n",
    "    \n",
    "fetch_dataset('hdtt4')"
   ]
  },
  {
   "cell_type": "code",
   "execution_count": 4,
   "metadata": {},
   "outputs": [],
   "source": [
    "def make_random_state(days, periods, list_tuple):\n",
    "    ret_state_routine = []\n",
    "    for i in range(days):\n",
    "            ret_state_routine.append([])\n",
    "            for j in range(periods):\n",
    "                ret_state_routine[i].append([])\n",
    "                \n",
    "    for tup in list_tuple:\n",
    "        day = randint(0, days - 1)\n",
    "        period = randint(0, periods - 1)\n",
    "        ret_state_routine[day][period].append(tup)\n",
    "    \n",
    "    for i in range(days):\n",
    "            for j in range(periods):\n",
    "                ret_state_routine[i][j] = sorted(ret_state_routine[i][j])\n",
    "                \n",
    "    return state(ret_state_routine)"
   ]
  },
  {
   "cell_type": "code",
   "execution_count": 5,
   "metadata": {},
   "outputs": [],
   "source": [
    "def beam_search(k = 5):\n",
    "    now = []\n",
    "    nxt = []\n",
    "    class_teacher_venue_count_tup_list = fetch_dataset('hdtt4')\n",
    "    \n",
    "    for it in range(1000):\n",
    "        rand_state = make_random_state(5, 6, class_teacher_venue_count_tup_list) \n",
    "        nxt.append(rand_state)\n",
    "        \n",
    "    nxt = sorted(nxt, key = lambda s: s.cost)\n",
    "    for idx in tqdm(range(k)):\n",
    "            if idx >= len(nxt):\n",
    "                break\n",
    "            now.append(nxt[idx])\n",
    "\n",
    "    print('Initial cost is ' + str(now[0].cost))\n",
    "    \n",
    "    itr = 0\n",
    "    while itr < 100:\n",
    "        itr = itr + 1\n",
    "        print('Running iteration : ' + str(itr))\n",
    "        for cur_state in tqdm(now):\n",
    "            cur_state.calc_transitions()\n",
    "            for nxt_state in cur_state.list_states:\n",
    "                if nxt_state.cost < now[0].cost:\n",
    "                    nxt.append(nxt_state)\n",
    "                    \n",
    "                \n",
    "        if(len(nxt) == 0):\n",
    "            print(\"Done!\")\n",
    "            return now[0]\n",
    "        nxt = sorted(nxt, key = lambda s: s.cost)\n",
    "        now = []\n",
    "        for idx in tqdm(range(k)):\n",
    "            if idx >= len(nxt):\n",
    "                break\n",
    "            now.append(nxt[idx])\n",
    "        nxt = []\n",
    "        print('Cost after iteration ' + str(itr) + ' is ' + str(now[0].cost))\n",
    "    "
   ]
  },
  {
   "cell_type": "code",
   "execution_count": 6,
   "metadata": {},
   "outputs": [],
   "source": [
    "rand_state = make_random_state(5, 6, fetch_dataset('hdtt4'))"
   ]
  },
  {
   "cell_type": "code",
   "execution_count": 7,
   "metadata": {},
   "outputs": [
    {
     "data": {
      "text/plain": [
       "[[[(2, 1, 4)],\n",
       "  [(1, 4, 1),\n",
       "   (2, 1, 2),\n",
       "   (2, 1, 4),\n",
       "   (2, 2, 2),\n",
       "   (2, 2, 4),\n",
       "   (2, 4, 1),\n",
       "   (3, 4, 4),\n",
       "   (4, 2, 4)],\n",
       "  [(1, 1, 4), (1, 4, 4), (2, 4, 2), (3, 3, 1), (3, 4, 3)],\n",
       "  [(1, 1, 1), (1, 1, 2), (1, 4, 2), (2, 4, 1)],\n",
       "  [(1, 2, 4)],\n",
       "  [(2, 1, 2), (2, 4, 2), (2, 4, 4), (3, 2, 3), (4, 4, 4)]],\n",
       " [[(1, 3, 4), (2, 1, 2), (4, 1, 2), (4, 3, 2)],\n",
       "  [(4, 3, 1), (4, 3, 1)],\n",
       "  [(1, 1, 3), (3, 4, 1), (3, 4, 1), (3, 4, 2), (4, 2, 2), (4, 2, 3)],\n",
       "  [(1, 3, 4), (2, 2, 2)],\n",
       "  [(2, 4, 4), (3, 2, 4), (3, 4, 1)],\n",
       "  [(1, 3, 4),\n",
       "   (1, 4, 3),\n",
       "   (3, 1, 4),\n",
       "   (3, 3, 3),\n",
       "   (3, 4, 1),\n",
       "   (4, 2, 2),\n",
       "   (4, 2, 4)]],\n",
       " [[(4, 2, 1), (4, 2, 2)],\n",
       "  [(2, 1, 2), (2, 3, 3), (3, 2, 3)],\n",
       "  [(2, 3, 2), (4, 1, 4)],\n",
       "  [(1, 3, 1), (2, 4, 3), (4, 1, 1), (4, 1, 3)],\n",
       "  [(2, 3, 1), (3, 1, 3), (3, 2, 3), (4, 4, 1), (4, 4, 1)],\n",
       "  [(1, 2, 4),\n",
       "   (1, 4, 3),\n",
       "   (2, 1, 1),\n",
       "   (3, 2, 3),\n",
       "   (4, 1, 1),\n",
       "   (4, 2, 4),\n",
       "   (4, 2, 4)]],\n",
       " [[(2, 2, 3)],\n",
       "  [(1, 3, 4), (3, 1, 1), (3, 3, 1), (4, 1, 3)],\n",
       "  [(1, 3, 3), (1, 4, 3)],\n",
       "  [(1, 1, 4),\n",
       "   (1, 4, 1),\n",
       "   (2, 2, 2),\n",
       "   (3, 1, 2),\n",
       "   (3, 4, 1),\n",
       "   (4, 3, 4),\n",
       "   (4, 4, 3)],\n",
       "  [(1, 2, 3), (1, 3, 4), (1, 4, 4), (3, 1, 1), (4, 1, 1)],\n",
       "  [(1, 1, 1), (1, 4, 2), (2, 2, 3), (3, 1, 4), (4, 3, 2)]],\n",
       " [[(2, 1, 2), (2, 1, 3), (2, 2, 2), (3, 2, 3), (3, 3, 4), (4, 3, 3)],\n",
       "  [(2, 1, 1), (3, 3, 3)],\n",
       "  [(1, 2, 1), (3, 3, 3)],\n",
       "  [(1, 1, 2), (1, 2, 2), (3, 3, 2), (3, 3, 3)],\n",
       "  [(1, 3, 2), (3, 4, 1), (4, 2, 2), (4, 3, 2), (4, 3, 3)],\n",
       "  [(1, 3, 4), (2, 2, 3), (2, 2, 4), (2, 3, 2), (3, 4, 3), (4, 3, 1)]]]"
      ]
     },
     "execution_count": 7,
     "metadata": {},
     "output_type": "execute_result"
    }
   ],
   "source": [
    "rand_state.routine"
   ]
  },
  {
   "cell_type": "code",
   "execution_count": 8,
   "metadata": {},
   "outputs": [
    {
     "name": "stdout",
     "output_type": "stream",
     "text": [
      "136\n"
     ]
    }
   ],
   "source": [
    "print(rand_state.cost)"
   ]
  },
  {
   "cell_type": "code",
   "execution_count": 9,
   "metadata": {},
   "outputs": [
    {
     "name": "stderr",
     "output_type": "stream",
     "text": [
      "100%|██████████| 5/5 [00:00<00:00, 29704.70it/s]\n",
      "  0%|          | 0/5 [00:00<?, ?it/s]"
     ]
    },
    {
     "name": "stdout",
     "output_type": "stream",
     "text": [
      "Initial cost is 111\n",
      "Running iteration : 1\n"
     ]
    },
    {
     "name": "stderr",
     "output_type": "stream",
     "text": [
      "100%|██████████| 5/5 [00:15<00:00,  3.07s/it]\n",
      "100%|██████████| 5/5 [00:00<00:00, 47446.88it/s]\n",
      "  0%|          | 0/5 [00:00<?, ?it/s]"
     ]
    },
    {
     "name": "stdout",
     "output_type": "stream",
     "text": [
      "Cost after iteration 1 is 108\n",
      "Running iteration : 2\n"
     ]
    },
    {
     "name": "stderr",
     "output_type": "stream",
     "text": [
      "100%|██████████| 5/5 [00:14<00:00,  2.97s/it]\n",
      "100%|██████████| 5/5 [00:00<00:00, 41859.32it/s]\n",
      "  0%|          | 0/5 [00:00<?, ?it/s]"
     ]
    },
    {
     "name": "stdout",
     "output_type": "stream",
     "text": [
      "Cost after iteration 2 is 105\n",
      "Running iteration : 3\n"
     ]
    },
    {
     "name": "stderr",
     "output_type": "stream",
     "text": [
      "100%|██████████| 5/5 [00:15<00:00,  3.05s/it]\n",
      "100%|██████████| 5/5 [00:00<00:00, 75437.12it/s]\n",
      "  0%|          | 0/5 [00:00<?, ?it/s]"
     ]
    },
    {
     "name": "stdout",
     "output_type": "stream",
     "text": [
      "Cost after iteration 3 is 102\n",
      "Running iteration : 4\n"
     ]
    },
    {
     "name": "stderr",
     "output_type": "stream",
     "text": [
      "100%|██████████| 5/5 [00:15<00:00,  3.02s/it]\n",
      "100%|██████████| 5/5 [00:00<00:00, 33934.50it/s]\n",
      "  0%|          | 0/5 [00:00<?, ?it/s]"
     ]
    },
    {
     "name": "stdout",
     "output_type": "stream",
     "text": [
      "Cost after iteration 4 is 99\n",
      "Running iteration : 5\n"
     ]
    },
    {
     "name": "stderr",
     "output_type": "stream",
     "text": [
      "100%|██████████| 5/5 [00:15<00:00,  3.01s/it]\n",
      "100%|██████████| 5/5 [00:00<00:00, 38692.84it/s]\n",
      "  0%|          | 0/5 [00:00<?, ?it/s]"
     ]
    },
    {
     "name": "stdout",
     "output_type": "stream",
     "text": [
      "Cost after iteration 5 is 96\n",
      "Running iteration : 6\n"
     ]
    },
    {
     "name": "stderr",
     "output_type": "stream",
     "text": [
      "100%|██████████| 5/5 [00:15<00:00,  3.01s/it]\n",
      "100%|██████████| 5/5 [00:00<00:00, 39199.10it/s]\n",
      "  0%|          | 0/5 [00:00<?, ?it/s]"
     ]
    },
    {
     "name": "stdout",
     "output_type": "stream",
     "text": [
      "Cost after iteration 6 is 93\n",
      "Running iteration : 7\n"
     ]
    },
    {
     "name": "stderr",
     "output_type": "stream",
     "text": [
      "100%|██████████| 5/5 [00:15<00:00,  3.04s/it]\n",
      "100%|██████████| 5/5 [00:00<00:00, 37583.37it/s]\n",
      "  0%|          | 0/5 [00:00<?, ?it/s]"
     ]
    },
    {
     "name": "stdout",
     "output_type": "stream",
     "text": [
      "Cost after iteration 7 is 90\n",
      "Running iteration : 8\n"
     ]
    },
    {
     "name": "stderr",
     "output_type": "stream",
     "text": [
      "100%|██████████| 5/5 [00:15<00:00,  3.16s/it]\n",
      "100%|██████████| 5/5 [00:00<00:00, 21754.69it/s]\n",
      "  0%|          | 0/5 [00:00<?, ?it/s]"
     ]
    },
    {
     "name": "stdout",
     "output_type": "stream",
     "text": [
      "Cost after iteration 8 is 87\n",
      "Running iteration : 9\n"
     ]
    },
    {
     "name": "stderr",
     "output_type": "stream",
     "text": [
      "100%|██████████| 5/5 [00:15<00:00,  3.02s/it]\n",
      "100%|██████████| 5/5 [00:00<00:00, 26715.31it/s]\n",
      "  0%|          | 0/5 [00:00<?, ?it/s]"
     ]
    },
    {
     "name": "stdout",
     "output_type": "stream",
     "text": [
      "Cost after iteration 9 is 84\n",
      "Running iteration : 10\n"
     ]
    },
    {
     "name": "stderr",
     "output_type": "stream",
     "text": [
      "100%|██████████| 5/5 [00:15<00:00,  3.00s/it]\n",
      "100%|██████████| 5/5 [00:00<00:00, 30131.49it/s]\n",
      "  0%|          | 0/5 [00:00<?, ?it/s]"
     ]
    },
    {
     "name": "stdout",
     "output_type": "stream",
     "text": [
      "Cost after iteration 10 is 81\n",
      "Running iteration : 11\n"
     ]
    },
    {
     "name": "stderr",
     "output_type": "stream",
     "text": [
      "100%|██████████| 5/5 [00:16<00:00,  3.25s/it]\n",
      "100%|██████████| 5/5 [00:00<00:00, 31488.77it/s]\n",
      "  0%|          | 0/5 [00:00<?, ?it/s]"
     ]
    },
    {
     "name": "stdout",
     "output_type": "stream",
     "text": [
      "Cost after iteration 11 is 78\n",
      "Running iteration : 12\n"
     ]
    },
    {
     "name": "stderr",
     "output_type": "stream",
     "text": [
      "100%|██████████| 5/5 [00:16<00:00,  3.30s/it]\n",
      "100%|██████████| 5/5 [00:00<00:00, 28493.91it/s]\n",
      "  0%|          | 0/5 [00:00<?, ?it/s]"
     ]
    },
    {
     "name": "stdout",
     "output_type": "stream",
     "text": [
      "Cost after iteration 12 is 75\n",
      "Running iteration : 13\n"
     ]
    },
    {
     "name": "stderr",
     "output_type": "stream",
     "text": [
      "100%|██████████| 5/5 [00:19<00:00,  3.90s/it]\n",
      "100%|██████████| 5/5 [00:00<00:00, 31115.01it/s]\n",
      "  0%|          | 0/5 [00:00<?, ?it/s]"
     ]
    },
    {
     "name": "stdout",
     "output_type": "stream",
     "text": [
      "Cost after iteration 13 is 73\n",
      "Running iteration : 14\n"
     ]
    },
    {
     "name": "stderr",
     "output_type": "stream",
     "text": [
      "100%|██████████| 5/5 [00:16<00:00,  3.40s/it]\n",
      "100%|██████████| 5/5 [00:00<00:00, 57299.23it/s]\n",
      "  0%|          | 0/5 [00:00<?, ?it/s]"
     ]
    },
    {
     "name": "stdout",
     "output_type": "stream",
     "text": [
      "Cost after iteration 14 is 70\n",
      "Running iteration : 15\n"
     ]
    },
    {
     "name": "stderr",
     "output_type": "stream",
     "text": [
      "100%|██████████| 5/5 [00:15<00:00,  3.05s/it]\n",
      "100%|██████████| 5/5 [00:00<00:00, 29789.09it/s]\n",
      "  0%|          | 0/5 [00:00<?, ?it/s]"
     ]
    },
    {
     "name": "stdout",
     "output_type": "stream",
     "text": [
      "Cost after iteration 15 is 68\n",
      "Running iteration : 16\n"
     ]
    },
    {
     "name": "stderr",
     "output_type": "stream",
     "text": [
      "100%|██████████| 5/5 [00:15<00:00,  3.07s/it]\n",
      "100%|██████████| 5/5 [00:00<00:00, 24759.76it/s]\n",
      "  0%|          | 0/5 [00:00<?, ?it/s]"
     ]
    },
    {
     "name": "stdout",
     "output_type": "stream",
     "text": [
      "Cost after iteration 16 is 66\n",
      "Running iteration : 17\n"
     ]
    },
    {
     "name": "stderr",
     "output_type": "stream",
     "text": [
      "100%|██████████| 5/5 [00:15<00:00,  3.01s/it]\n",
      "100%|██████████| 5/5 [00:00<00:00, 45889.54it/s]\n",
      "  0%|          | 0/5 [00:00<?, ?it/s]"
     ]
    },
    {
     "name": "stdout",
     "output_type": "stream",
     "text": [
      "Cost after iteration 17 is 64\n",
      "Running iteration : 18\n"
     ]
    },
    {
     "name": "stderr",
     "output_type": "stream",
     "text": [
      "100%|██████████| 5/5 [00:16<00:00,  3.31s/it]\n",
      "100%|██████████| 5/5 [00:00<00:00, 11922.41it/s]\n",
      "  0%|          | 0/5 [00:00<?, ?it/s]"
     ]
    },
    {
     "name": "stdout",
     "output_type": "stream",
     "text": [
      "Cost after iteration 18 is 62\n",
      "Running iteration : 19\n"
     ]
    },
    {
     "name": "stderr",
     "output_type": "stream",
     "text": [
      "100%|██████████| 5/5 [00:16<00:00,  3.39s/it]\n",
      "100%|██████████| 5/5 [00:00<00:00, 34044.68it/s]\n",
      "  0%|          | 0/5 [00:00<?, ?it/s]"
     ]
    },
    {
     "name": "stdout",
     "output_type": "stream",
     "text": [
      "Cost after iteration 19 is 60\n",
      "Running iteration : 20\n"
     ]
    },
    {
     "name": "stderr",
     "output_type": "stream",
     "text": [
      "100%|██████████| 5/5 [00:15<00:00,  3.19s/it]\n",
      "100%|██████████| 5/5 [00:00<00:00, 26579.87it/s]\n",
      "  0%|          | 0/5 [00:00<?, ?it/s]"
     ]
    },
    {
     "name": "stdout",
     "output_type": "stream",
     "text": [
      "Cost after iteration 20 is 58\n",
      "Running iteration : 21\n"
     ]
    },
    {
     "name": "stderr",
     "output_type": "stream",
     "text": [
      "100%|██████████| 5/5 [00:15<00:00,  3.07s/it]\n",
      "100%|██████████| 5/5 [00:00<00:00, 70849.73it/s]\n",
      "  0%|          | 0/5 [00:00<?, ?it/s]"
     ]
    },
    {
     "name": "stdout",
     "output_type": "stream",
     "text": [
      "Cost after iteration 21 is 56\n",
      "Running iteration : 22\n"
     ]
    },
    {
     "name": "stderr",
     "output_type": "stream",
     "text": [
      "100%|██████████| 5/5 [00:15<00:00,  3.01s/it]\n",
      "100%|██████████| 5/5 [00:00<00:00, 66365.57it/s]\n",
      "  0%|          | 0/5 [00:00<?, ?it/s]"
     ]
    },
    {
     "name": "stdout",
     "output_type": "stream",
     "text": [
      "Cost after iteration 22 is 54\n",
      "Running iteration : 23\n"
     ]
    },
    {
     "name": "stderr",
     "output_type": "stream",
     "text": [
      "100%|██████████| 5/5 [00:15<00:00,  3.02s/it]\n",
      "100%|██████████| 5/5 [00:00<00:00, 26886.56it/s]\n",
      "  0%|          | 0/5 [00:00<?, ?it/s]"
     ]
    },
    {
     "name": "stdout",
     "output_type": "stream",
     "text": [
      "Cost after iteration 23 is 52\n",
      "Running iteration : 24\n"
     ]
    },
    {
     "name": "stderr",
     "output_type": "stream",
     "text": [
      "100%|██████████| 5/5 [00:15<00:00,  3.05s/it]\n",
      "100%|██████████| 5/5 [00:00<00:00, 31441.56it/s]\n",
      "  0%|          | 0/5 [00:00<?, ?it/s]"
     ]
    },
    {
     "name": "stdout",
     "output_type": "stream",
     "text": [
      "Cost after iteration 24 is 50\n",
      "Running iteration : 25\n"
     ]
    },
    {
     "name": "stderr",
     "output_type": "stream",
     "text": [
      "100%|██████████| 5/5 [00:15<00:00,  3.04s/it]\n",
      "100%|██████████| 5/5 [00:00<00:00, 30615.36it/s]\n",
      "  0%|          | 0/5 [00:00<?, ?it/s]"
     ]
    },
    {
     "name": "stdout",
     "output_type": "stream",
     "text": [
      "Cost after iteration 25 is 49\n",
      "Running iteration : 26\n"
     ]
    },
    {
     "name": "stderr",
     "output_type": "stream",
     "text": [
      "100%|██████████| 5/5 [00:15<00:00,  3.07s/it]\n",
      "100%|██████████| 5/5 [00:00<00:00, 22869.71it/s]\n",
      "  0%|          | 0/5 [00:00<?, ?it/s]"
     ]
    },
    {
     "name": "stdout",
     "output_type": "stream",
     "text": [
      "Cost after iteration 26 is 47\n",
      "Running iteration : 27\n"
     ]
    },
    {
     "name": "stderr",
     "output_type": "stream",
     "text": [
      "100%|██████████| 5/5 [00:15<00:00,  3.05s/it]\n",
      "100%|██████████| 5/5 [00:00<00:00, 32413.48it/s]\n",
      "  0%|          | 0/5 [00:00<?, ?it/s]"
     ]
    },
    {
     "name": "stdout",
     "output_type": "stream",
     "text": [
      "Cost after iteration 27 is 46\n",
      "Running iteration : 28\n"
     ]
    },
    {
     "name": "stderr",
     "output_type": "stream",
     "text": [
      "100%|██████████| 5/5 [00:15<00:00,  3.04s/it]\n",
      "100%|██████████| 5/5 [00:00<00:00, 35665.85it/s]\n",
      "  0%|          | 0/5 [00:00<?, ?it/s]"
     ]
    },
    {
     "name": "stdout",
     "output_type": "stream",
     "text": [
      "Cost after iteration 28 is 45\n",
      "Running iteration : 29\n"
     ]
    },
    {
     "name": "stderr",
     "output_type": "stream",
     "text": [
      "100%|██████████| 5/5 [00:15<00:00,  3.02s/it]\n",
      "100%|██████████| 5/5 [00:00<00:00, 30750.03it/s]\n",
      "  0%|          | 0/5 [00:00<?, ?it/s]"
     ]
    },
    {
     "name": "stdout",
     "output_type": "stream",
     "text": [
      "Cost after iteration 29 is 43\n",
      "Running iteration : 30\n"
     ]
    },
    {
     "name": "stderr",
     "output_type": "stream",
     "text": [
      "100%|██████████| 5/5 [00:15<00:00,  3.08s/it]\n",
      "100%|██████████| 5/5 [00:00<00:00, 27850.62it/s]\n",
      "  0%|          | 0/5 [00:00<?, ?it/s]"
     ]
    },
    {
     "name": "stdout",
     "output_type": "stream",
     "text": [
      "Cost after iteration 30 is 41\n",
      "Running iteration : 31\n"
     ]
    },
    {
     "name": "stderr",
     "output_type": "stream",
     "text": [
      "100%|██████████| 5/5 [00:15<00:00,  3.05s/it]\n",
      "100%|██████████| 5/5 [00:00<00:00, 17712.43it/s]\n",
      "  0%|          | 0/5 [00:00<?, ?it/s]"
     ]
    },
    {
     "name": "stdout",
     "output_type": "stream",
     "text": [
      "Cost after iteration 31 is 40\n",
      "Running iteration : 32\n"
     ]
    },
    {
     "name": "stderr",
     "output_type": "stream",
     "text": [
      "100%|██████████| 5/5 [00:14<00:00,  2.98s/it]\n",
      "100%|██████████| 5/5 [00:00<00:00, 34721.06it/s]\n",
      "  0%|          | 0/5 [00:00<?, ?it/s]"
     ]
    },
    {
     "name": "stdout",
     "output_type": "stream",
     "text": [
      "Cost after iteration 32 is 38\n",
      "Running iteration : 33\n"
     ]
    },
    {
     "name": "stderr",
     "output_type": "stream",
     "text": [
      "100%|██████████| 5/5 [00:15<00:00,  3.03s/it]\n",
      "100%|██████████| 5/5 [00:00<00:00, 72565.81it/s]\n",
      "  0%|          | 0/5 [00:00<?, ?it/s]"
     ]
    },
    {
     "name": "stdout",
     "output_type": "stream",
     "text": [
      "Cost after iteration 33 is 37\n",
      "Running iteration : 34\n"
     ]
    },
    {
     "name": "stderr",
     "output_type": "stream",
     "text": [
      "100%|██████████| 5/5 [00:15<00:00,  3.00s/it]\n",
      "100%|██████████| 5/5 [00:00<00:00, 24357.17it/s]\n",
      "  0%|          | 0/5 [00:00<?, ?it/s]"
     ]
    },
    {
     "name": "stdout",
     "output_type": "stream",
     "text": [
      "Cost after iteration 34 is 36\n",
      "Running iteration : 35\n"
     ]
    },
    {
     "name": "stderr",
     "output_type": "stream",
     "text": [
      "100%|██████████| 5/5 [00:15<00:00,  3.01s/it]\n",
      "100%|██████████| 5/5 [00:00<00:00, 13123.60it/s]\n",
      "  0%|          | 0/5 [00:00<?, ?it/s]"
     ]
    },
    {
     "name": "stdout",
     "output_type": "stream",
     "text": [
      "Cost after iteration 35 is 35\n",
      "Running iteration : 36\n"
     ]
    },
    {
     "name": "stderr",
     "output_type": "stream",
     "text": [
      "100%|██████████| 5/5 [00:15<00:00,  3.01s/it]\n",
      "100%|██████████| 5/5 [00:00<00:00, 25858.84it/s]\n",
      "  0%|          | 0/5 [00:00<?, ?it/s]"
     ]
    },
    {
     "name": "stdout",
     "output_type": "stream",
     "text": [
      "Cost after iteration 36 is 34\n",
      "Running iteration : 37\n"
     ]
    },
    {
     "name": "stderr",
     "output_type": "stream",
     "text": [
      "100%|██████████| 5/5 [00:15<00:00,  3.01s/it]\n",
      "100%|██████████| 5/5 [00:00<00:00, 28339.89it/s]\n",
      "  0%|          | 0/5 [00:00<?, ?it/s]"
     ]
    },
    {
     "name": "stdout",
     "output_type": "stream",
     "text": [
      "Cost after iteration 37 is 33\n",
      "Running iteration : 38\n"
     ]
    },
    {
     "name": "stderr",
     "output_type": "stream",
     "text": [
      "100%|██████████| 5/5 [00:15<00:00,  3.09s/it]\n",
      "100%|██████████| 5/5 [00:00<00:00, 28532.68it/s]\n",
      "  0%|          | 0/5 [00:00<?, ?it/s]"
     ]
    },
    {
     "name": "stdout",
     "output_type": "stream",
     "text": [
      "Cost after iteration 38 is 32\n",
      "Running iteration : 39\n"
     ]
    },
    {
     "name": "stderr",
     "output_type": "stream",
     "text": [
      "100%|██████████| 5/5 [00:15<00:00,  3.04s/it]\n",
      "100%|██████████| 5/5 [00:00<00:00, 24643.38it/s]\n",
      "  0%|          | 0/5 [00:00<?, ?it/s]"
     ]
    },
    {
     "name": "stdout",
     "output_type": "stream",
     "text": [
      "Cost after iteration 39 is 31\n",
      "Running iteration : 40\n"
     ]
    },
    {
     "name": "stderr",
     "output_type": "stream",
     "text": [
      "100%|██████████| 5/5 [00:15<00:00,  3.01s/it]\n",
      "100%|██████████| 5/5 [00:00<00:00, 77101.18it/s]\n",
      "  0%|          | 0/5 [00:00<?, ?it/s]"
     ]
    },
    {
     "name": "stdout",
     "output_type": "stream",
     "text": [
      "Cost after iteration 40 is 30\n",
      "Running iteration : 41\n"
     ]
    },
    {
     "name": "stderr",
     "output_type": "stream",
     "text": [
      "100%|██████████| 5/5 [00:15<00:00,  3.07s/it]\n",
      "100%|██████████| 5/5 [00:00<00:00, 26379.27it/s]\n",
      "  0%|          | 0/5 [00:00<?, ?it/s]"
     ]
    },
    {
     "name": "stdout",
     "output_type": "stream",
     "text": [
      "Cost after iteration 41 is 29\n",
      "Running iteration : 42\n"
     ]
    },
    {
     "name": "stderr",
     "output_type": "stream",
     "text": [
      "100%|██████████| 5/5 [00:15<00:00,  3.06s/it]\n",
      "100%|██████████| 5/5 [00:00<00:00, 20460.02it/s]\n",
      "  0%|          | 0/5 [00:00<?, ?it/s]"
     ]
    },
    {
     "name": "stdout",
     "output_type": "stream",
     "text": [
      "Cost after iteration 42 is 28\n",
      "Running iteration : 43\n"
     ]
    },
    {
     "name": "stderr",
     "output_type": "stream",
     "text": [
      "100%|██████████| 5/5 [00:15<00:00,  3.09s/it]\n",
      "100%|██████████| 5/5 [00:00<00:00, 15557.51it/s]\n",
      "  0%|          | 0/5 [00:00<?, ?it/s]"
     ]
    },
    {
     "name": "stdout",
     "output_type": "stream",
     "text": [
      "Cost after iteration 43 is 27\n",
      "Running iteration : 44\n"
     ]
    },
    {
     "name": "stderr",
     "output_type": "stream",
     "text": [
      "100%|██████████| 5/5 [00:15<00:00,  3.03s/it]\n",
      "100%|██████████| 5/5 [00:00<00:00, 37923.18it/s]\n",
      "  0%|          | 0/5 [00:00<?, ?it/s]"
     ]
    },
    {
     "name": "stdout",
     "output_type": "stream",
     "text": [
      "Cost after iteration 44 is 26\n",
      "Running iteration : 45\n"
     ]
    },
    {
     "name": "stderr",
     "output_type": "stream",
     "text": [
      "100%|██████████| 5/5 [00:15<00:00,  3.17s/it]\n",
      "  0%|          | 0/5 [00:00<?, ?it/s]\n",
      "  0%|          | 0/2 [00:00<?, ?it/s]"
     ]
    },
    {
     "name": "stdout",
     "output_type": "stream",
     "text": [
      "Cost after iteration 45 is 25\n",
      "Running iteration : 46\n"
     ]
    },
    {
     "name": "stderr",
     "output_type": "stream",
     "text": [
      "100%|██████████| 2/2 [00:06<00:00,  3.21s/it]"
     ]
    },
    {
     "name": "stdout",
     "output_type": "stream",
     "text": [
      "Done!\n"
     ]
    },
    {
     "name": "stderr",
     "output_type": "stream",
     "text": [
      "\n"
     ]
    }
   ],
   "source": [
    "optimal_state = beam_search()"
   ]
  },
  {
   "cell_type": "code",
   "execution_count": 10,
   "metadata": {},
   "outputs": [
    {
     "data": {
      "text/plain": [
       "[[[(1, 4, 3), (2, 2, 4), (3, 3, 1), (4, 1, 1)],\n",
       "  [(2, 2, 3), (3, 4, 1), (4, 1, 4), (4, 3, 2)],\n",
       "  [(1, 4, 4), (2, 1, 1), (3, 2, 3), (3, 3, 2)],\n",
       "  [(1, 3, 4), (1, 4, 1), (2, 1, 2), (3, 2, 3)],\n",
       "  [(1, 4, 1), (2, 4, 4), (3, 3, 3), (4, 2, 2)],\n",
       "  [(2, 1, 4), (2, 4, 2), (3, 3, 3), (4, 3, 1)]],\n",
       " [[(1, 3, 2), (2, 4, 3), (3, 1, 4), (4, 2, 1)],\n",
       "  [(1, 1, 2), (1, 3, 3), (2, 2, 4), (4, 4, 1)],\n",
       "  [(1, 2, 3), (2, 3, 2), (3, 4, 1), (4, 3, 4)],\n",
       "  [(1, 3, 4), (2, 4, 1), (4, 1, 3), (4, 2, 2)],\n",
       "  [(1, 4, 3), (2, 1, 2), (3, 3, 1), (4, 2, 4)],\n",
       "  [(2, 3, 2), (2, 4, 1), (3, 2, 3), (4, 2, 4)]],\n",
       " [[(1, 3, 4), (2, 1, 1), (3, 4, 2), (4, 1, 3)],\n",
       "  [(1, 2, 4), (2, 4, 2), (3, 1, 2), (4, 3, 1)],\n",
       "  [(1, 3, 1), (2, 1, 2), (3, 2, 3), (4, 2, 4)],\n",
       "  [(1, 4, 4), (2, 1, 2), (3, 2, 4), (4, 3, 3)],\n",
       "  [(1, 1, 2), (2, 4, 4), (3, 1, 1), (4, 2, 3)],\n",
       "  [(1, 1, 3), (2, 2, 2), (3, 3, 3), (4, 4, 1)]],\n",
       " [[(1, 2, 1), (2, 3, 3), (3, 4, 4), (4, 1, 2)],\n",
       "  [(1, 2, 4), (2, 2, 3), (3, 1, 1), (4, 3, 2)],\n",
       "  [(1, 1, 4), (2, 3, 1), (3, 4, 3), (4, 2, 2)],\n",
       "  [(1, 4, 2), (2, 1, 4), (3, 4, 1), (4, 3, 3)],\n",
       "  [(1, 4, 3), (2, 1, 2), (4, 2, 4), (4, 3, 1)],\n",
       "  [(1, 2, 2), (1, 3, 4), (3, 4, 3), (4, 1, 1)]],\n",
       " [[(1, 3, 4), (2, 1, 3), (3, 4, 1), (4, 2, 2)],\n",
       "  [(1, 3, 4), (2, 2, 2), (3, 1, 3), (3, 4, 1)],\n",
       "  [(1, 1, 1), (2, 2, 2), (3, 3, 4), (4, 4, 3)],\n",
       "  [(1, 4, 2), (2, 2, 3), (3, 1, 4), (4, 1, 1)],\n",
       "  [(1, 1, 4), (3, 2, 3), (3, 4, 1), (4, 3, 2)],\n",
       "  [(1, 1, 1), (2, 2, 2), (3, 3, 3), (4, 4, 4)]]]"
      ]
     },
     "execution_count": 10,
     "metadata": {},
     "output_type": "execute_result"
    }
   ],
   "source": [
    "optimal_state.routine"
   ]
  }
 ],
 "metadata": {
  "kernelspec": {
   "display_name": "Python 3",
   "language": "python",
   "name": "python3"
  },
  "language_info": {
   "codemirror_mode": {
    "name": "ipython",
    "version": 3
   },
   "file_extension": ".py",
   "mimetype": "text/x-python",
   "name": "python",
   "nbconvert_exporter": "python",
   "pygments_lexer": "ipython3",
   "version": "3.5.2"
  }
 },
 "nbformat": 4,
 "nbformat_minor": 2
}
