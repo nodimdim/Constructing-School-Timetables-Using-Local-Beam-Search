{
 "cells": [
  {
   "cell_type": "code",
   "execution_count": 22,
   "metadata": {},
   "outputs": [],
   "source": [
    "import matplotlib.pyplot as plt\n",
    "from random import randint\n",
    "from hashlib import sha1\n",
    "import time\n",
    "from copy import deepcopy\n",
    "from tqdm import tqdm"
   ]
  },
  {
   "cell_type": "code",
   "execution_count": 23,
   "metadata": {},
   "outputs": [],
   "source": [
    "class state:\n",
    "    visited = set([])\n",
    "    def __init__(self, n, m):\n",
    "        self.routine = [[None] * m] * n\n",
    "        for i in range(n):\n",
    "            for j in range(m):\n",
    "                self.routine[i][j] = []\n",
    "        \n",
    "    def get_cost(self):\n",
    "        n = len(self.routine)\n",
    "        m = len(self.routine[0])\n",
    "        cost = 0\n",
    "        for i in range(n):\n",
    "            for j in range(m):\n",
    "                num_entries = len(self.routine[i][j])\n",
    "                for i_ in range (0, num_entries):\n",
    "                    for j_ in range(i_ + 1, num_entries):\n",
    "                        for k in range(3):\n",
    "                            if(self.routine[i][j][i_][k] == self.routine[i][j][j_][k]):\n",
    "                                cost = cost + 1\n",
    "        return cost\n",
    "    \n",
    "    def get_hash(self):\n",
    "        return sha1(str(self.routine).encode()).hexdigest()\n",
    "    \n",
    "    def get_transitions(self):\n",
    "        n = len(self.routine)\n",
    "        m = len(self.routine[0])\n",
    "        list_states = []\n",
    "        for i in range(n):\n",
    "            for j in range(m):\n",
    "                num_entries = len(self.routine[i][j])\n",
    "                for k in range(num_entries):\n",
    "                    for i_ in range(n):\n",
    "                        for j_ in range(m):\n",
    "                            if(i == i_ and j == j_):\n",
    "                                continue\n",
    "                            tmp = deepcopy(self)\n",
    "                            tup = tmp.routine[i][j].pop(k)\n",
    "                            tmp.routine[i_][j_].append(tup);\n",
    "                            tmp.routine[i_][j_] = sorted(tmp.routine[i_][j_])\n",
    "                            if not tmp.get_hash() in state.visited:\n",
    "                                list_states.append(tmp)\n",
    "        return list_states"
   ]
  },
  {
   "cell_type": "code",
   "execution_count": 24,
   "metadata": {},
   "outputs": [],
   "source": [
    "def fetch_class_teacher_venue_count(filename):\n",
    "    file = open(filename, 'r')\n",
    "    return_list = []\n",
    "    for line in file:\n",
    "        clas, teacher, venue, count = [int(v) for v in line.split()]\n",
    "        for _ in range(count):\n",
    "            return_list.append((clas, teacher, venue))\n",
    "    return return_list"
   ]
  },
  {
   "cell_type": "code",
   "execution_count": 25,
   "metadata": {},
   "outputs": [
    {
     "data": {
      "text/plain": [
       "[(2, 2, 1),\n",
       " (2, 2, 1),\n",
       " (1, 1, 1),\n",
       " (1, 1, 1),\n",
       " (1, 1, 1),\n",
       " (1, 1, 1),\n",
       " (1, 1, 1),\n",
       " (1, 1, 1),\n",
       " (1, 1, 1),\n",
       " (1, 1, 1),\n",
       " (2, 2, 3),\n",
       " (2, 2, 3),\n",
       " (2, 5, 1),\n",
       " (2, 5, 1),\n",
       " (0, 4, 3),\n",
       " (0, 4, 3),\n",
       " (2, 2, 1),\n",
       " (2, 2, 1),\n",
       " (2, 1, 1),\n",
       " (2, 1, 1),\n",
       " (0, 0, 5),\n",
       " (2, 1, 4),\n",
       " (6, 1, 2),\n",
       " (3, 1, 2),\n",
       " (1, 4, 1),\n",
       " (1, 4, 1),\n",
       " (1, 4, 1),\n",
       " (1, 4, 1),\n",
       " (3, 3, 2),\n",
       " (2, 0, 1)]"
      ]
     },
     "execution_count": 25,
     "metadata": {},
     "output_type": "execute_result"
    }
   ],
   "source": [
    "fetch_class_teacher_venue_count('./hdtt/hdtt4req.txt')"
   ]
  },
  {
   "cell_type": "code",
   "execution_count": 26,
   "metadata": {},
   "outputs": [],
   "source": [
    "def make_random_state(days, periods, list_tuple):\n",
    "    ret_state = state(days, periods)\n",
    "    for tup in list_tuple:\n",
    "        day = randint(0, days - 1)\n",
    "        period = randint(0, periods - 1)\n",
    "        ret_state.routine[day][period].append(tup)\n",
    "    return ret_state"
   ]
  },
  {
   "cell_type": "code",
   "execution_count": 27,
   "metadata": {},
   "outputs": [],
   "source": [
    "def beam_search(k = 10):\n",
    "    now = []\n",
    "    nxt = []\n",
    "    class_teacher_venue_count_tup_list = fetch_class_teacher_venue_count('./hdtt/hdtt4req.txt')\n",
    "    for it in range(k):\n",
    "        rand_state = make_random_state(5, 35, class_teacher_venue_count_tup_list) \n",
    "        now.append(rand_state)\n",
    "        state.visited.add(rand_state.get_hash())\n",
    "    for itr in range(10):\n",
    "        print('Running iteration : ' + str(itr))\n",
    "        for cur_state in tqdm(now):\n",
    "            for nxt_state in cur_state.get_transitions():\n",
    "                nxt.append(nxt_state)\n",
    "        if(len(nxt) == 0):\n",
    "            print(\"Done!\")\n",
    "            return\n",
    "        sorted(nxt, key = lambda s: s.get_cost())\n",
    "        now = []\n",
    "        for idx in tqdm(range(k)):\n",
    "            state.visited.add(nxt[idx].get_hash())\n",
    "            now.append(nxt[idx])\n",
    "        nxt = []\n",
    "        print(now[0].cost)"
   ]
  },
  {
   "cell_type": "code",
   "execution_count": 21,
   "metadata": {},
   "outputs": [
    {
     "name": "stderr",
     "output_type": "stream",
     "text": [
      "\r",
      "  0%|          | 0/5 [00:00<?, ?it/s]"
     ]
    },
    {
     "name": "stdout",
     "output_type": "stream",
     "text": [
      "Running iteration : 0\n"
     ]
    },
    {
     "name": "stderr",
     "output_type": "stream",
     "text": [
      " 20%|██        | 1/5 [00:09<00:39,  9.99s/it]ERROR:root:Internal Python error in the inspect module.\n",
      "Below is the traceback from this internal error.\n",
      "\n"
     ]
    },
    {
     "name": "stdout",
     "output_type": "stream",
     "text": [
      "Traceback (most recent call last):\n",
      "  File \"/home/nadim/.local/lib/python3.5/site-packages/IPython/core/interactiveshell.py\", line 2910, in run_code\n",
      "    exec(code_obj, self.user_global_ns, self.user_ns)\n",
      "  File \"<ipython-input-21-ba34d3005957>\", line 1, in <module>\n",
      "    beam_search(5)\n",
      "  File \"<ipython-input-20-cec939c44b19>\", line 12, in beam_search\n",
      "    for nxt_state in cur_state.get_transitions():\n",
      "  File \"<ipython-input-16-3296adbaac23>\", line 38, in get_transitions\n",
      "    tmp = deepcopy(self)\n",
      "  File \"/usr/lib/python3.5/copy.py\", line 182, in deepcopy\n",
      "    y = _reconstruct(x, rv, 1, memo)\n",
      "  File \"/usr/lib/python3.5/copy.py\", line 297, in _reconstruct\n",
      "    state = deepcopy(state, memo)\n",
      "  File \"/usr/lib/python3.5/copy.py\", line 155, in deepcopy\n",
      "    y = copier(x, memo)\n",
      "  File \"/usr/lib/python3.5/copy.py\", line 243, in _deepcopy_dict\n",
      "    y[deepcopy(key, memo)] = deepcopy(value, memo)\n",
      "  File \"/usr/lib/python3.5/copy.py\", line 155, in deepcopy\n",
      "    y = copier(x, memo)\n",
      "  File \"/usr/lib/python3.5/copy.py\", line 218, in _deepcopy_list\n",
      "    y.append(deepcopy(a, memo))\n",
      "  File \"/usr/lib/python3.5/copy.py\", line 155, in deepcopy\n",
      "    y = copier(x, memo)\n",
      "  File \"/usr/lib/python3.5/copy.py\", line 218, in _deepcopy_list\n",
      "    y.append(deepcopy(a, memo))\n",
      "  File \"/usr/lib/python3.5/copy.py\", line 155, in deepcopy\n",
      "    y = copier(x, memo)\n",
      "  File \"/usr/lib/python3.5/copy.py\", line 218, in _deepcopy_list\n",
      "    y.append(deepcopy(a, memo))\n",
      "  File \"/usr/lib/python3.5/copy.py\", line 151, in deepcopy\n",
      "    cls = type(x)\n",
      "KeyboardInterrupt\n",
      "\n",
      "During handling of the above exception, another exception occurred:\n",
      "\n",
      "Traceback (most recent call last):\n",
      "  File \"/home/nadim/.local/lib/python3.5/site-packages/IPython/core/interactiveshell.py\", line 1828, in showtraceback\n",
      "    stb = value._render_traceback_()\n",
      "AttributeError: 'KeyboardInterrupt' object has no attribute '_render_traceback_'\n",
      "\n",
      "During handling of the above exception, another exception occurred:\n",
      "\n",
      "Traceback (most recent call last):\n",
      "  File \"/home/nadim/.local/lib/python3.5/site-packages/IPython/core/ultratb.py\", line 1090, in get_records\n",
      "    return _fixed_getinnerframes(etb, number_of_lines_of_context, tb_offset)\n",
      "  File \"/home/nadim/.local/lib/python3.5/site-packages/IPython/core/ultratb.py\", line 311, in wrapped\n",
      "    return f(*args, **kwargs)\n",
      "  File \"/home/nadim/.local/lib/python3.5/site-packages/IPython/core/ultratb.py\", line 345, in _fixed_getinnerframes\n",
      "    records = fix_frame_records_filenames(inspect.getinnerframes(etb, context))\n",
      "  File \"/usr/lib/python3.5/inspect.py\", line 1453, in getinnerframes\n",
      "    frameinfo = (tb.tb_frame,) + getframeinfo(tb, context)\n",
      "  File \"/usr/lib/python3.5/inspect.py\", line 1410, in getframeinfo\n",
      "    filename = getsourcefile(frame) or getfile(frame)\n",
      "  File \"/usr/lib/python3.5/inspect.py\", line 672, in getsourcefile\n",
      "    if getattr(getmodule(object, filename), '__loader__', None) is not None:\n",
      "  File \"/usr/lib/python3.5/inspect.py\", line 715, in getmodule\n",
      "    f = getabsfile(module)\n",
      "  File \"/usr/lib/python3.5/inspect.py\", line 684, in getabsfile\n",
      "    _filename = getsourcefile(object) or getfile(object)\n",
      "  File \"/usr/lib/python3.5/inspect.py\", line 669, in getsourcefile\n",
      "    if os.path.exists(filename):\n",
      "  File \"/usr/lib/python3.5/genericpath.py\", line 19, in exists\n",
      "    os.stat(path)\n",
      "KeyboardInterrupt\n"
     ]
    },
    {
     "ename": "KeyboardInterrupt",
     "evalue": "",
     "output_type": "error",
     "traceback": [
      "\u001b[0;31m---------------------------------------------------------------------------\u001b[0m"
     ]
    }
   ],
   "source": [
    "beam_search(5)"
   ]
  }
 ],
 "metadata": {
  "kernelspec": {
   "display_name": "Python 3",
   "language": "python",
   "name": "python3"
  },
  "language_info": {
   "codemirror_mode": {
    "name": "ipython",
    "version": 3
   },
   "file_extension": ".py",
   "mimetype": "text/x-python",
   "name": "python",
   "nbconvert_exporter": "python",
   "pygments_lexer": "ipython3",
   "version": "3.5.2"
  }
 },
 "nbformat": 4,
 "nbformat_minor": 2
}
